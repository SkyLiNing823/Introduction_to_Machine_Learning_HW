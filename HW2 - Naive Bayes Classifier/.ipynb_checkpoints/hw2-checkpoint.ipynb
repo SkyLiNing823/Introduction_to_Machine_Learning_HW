{
 "cells": [
  {
   "cell_type": "markdown",
   "metadata": {},
   "source": [
    "# HW2 - Naive Bayes Classifier\n",
    "##### 負責助教：陳亮宇 catchingfire80@gmail.com\n",
    " \n",
    "\n",
    "> 這次的作業想讓大家練習一些file I/O, data preproceing, sklearn函式庫的操作\n",
    "\n",
    "---\n",
    "## 評分標準\n",
    "* 上課繳交：25%\n",
    "    * 在當天 16:20 前上傳至 new E3 作業，請將以下打包成 .zip 上傳：\n",
    "        * 程式原始檔 (.ipynb）\n",
    "        * 程式 .html 檔\n",
    "* 程式分數：75%\n",
    "    * 於一週內完成並上傳至 new E3\n",
    "\n",
    "#### 注意：最終學期成績將視全班原始成績做調整\n",
    "\n",
    "---"
   ]
  },
  {
   "source": [
    "# 關於資料集\n",
    "- 資料集: 這是一個收集了各種車子相關的數據的分類資料集，目標在藉由車子的不同特性來預測其對消費者來說的接受度。\n",
    "- 屬性:\n",
    "    - Class Values(target):\n",
    "        - unacc, acc, good, vgood\n",
    "    - Attributes(features):\n",
    "        - buying: vhigh, high, med, low\n",
    "        - maint: vhigh, high, med, low\n",
    "        - doors: 2, 3, 4, 5more\n",
    "        - persons: 2, 4, more\n",
    "        - lug_boot: small, med, big\n",
    "        - safety: low, med, high\n",
    "- 分類任務: 分類任務旨在藉由讀入上述的features作為模型的input，期望預測出正確的分類(target)。\n",
    "- 衡量模型: 為了知道自己的模型好壞，一般在拿到資料時會將資料分為training以及testing兩部分，模型訓練時僅拿training set的資料進行訓練，而模型的表現則由完全沒看過的testing set上所預測出來的準確度來衡量。"
   ],
   "cell_type": "markdown",
   "metadata": {}
  },
  {
   "cell_type": "markdown",
   "metadata": {},
   "source": [
    "## 基本資料 - 5%\n",
    "\n",
    "#### 姓名：（點兩下編輯我）\n",
    "#### 學號：（點兩下編輯我）"
   ]
  },
  {
   "cell_type": "markdown",
   "metadata": {},
   "source": [
    "## Packages that Might Be Used"
   ]
  },
  {
   "cell_type": "code",
   "execution_count": 3,
   "metadata": {},
   "outputs": [],
   "source": [
    "from sklearn.naive_bayes import GaussianNB\n",
    "from sklearn.naive_bayes import BernoulliNB\n",
    "from sklearn.naive_bayes import MultinomialNB\n",
    "#from sklearn.naive_bayes import ComplementNB\n",
    "from sklearn.model_selection import train_test_split\n",
    "from sklearn import preprocessing\n",
    "from sklearn.metrics import confusion_matrix\n",
    "import numpy as np\n",
    "import pandas as pd"
   ]
  },
  {
   "cell_type": "markdown",
   "metadata": {},
   "source": [
    "### 相關連結\n",
    "\n",
    "* Packages\n",
    "    * [cantaloupe](https://youtu.be/zkd8bJF15pQ)\n",
    "    * [numpy](http://www.numpy.org/)\n",
    "    * [pandas](https://pandas.pydata.org/)\n",
    "    * [re](https://docs.python.org/zh-cn/3/library/re.html)\n",
    "    * [CountVectorizer](https://scikit-learn.org/stable/modules/generated/sklearn.feature_extraction.text.CountVectorizer.html)\n",
    "    * [LabelEncoder](https://scikit-learn.org/stable/modules/generated/sklearn.preprocessing.LabelEncoder.html)\n",
    "    * [difflib](https://docs.python.org/2/library/difflib.html)\n",
    "    * [train_test_split](https://scikit-learn.org/stable/modules/generated/sklearn.model_selection.train_test_split.html)\n",
    "    * [Gaussian-naive-bayes](https://scikit-learn.org/stable/modules/naive_bayes.html#gaussian-naive-bayes)\n",
    "    * [Multinomial-naive-bayes](https://scikit-learn.org/stable/modules/naive_bayes.html#multinomial-naive-bayes)\n",
    "    * [Bernoulli-naive-bayes](https://scikit-learn.org/stable/modules/naive_bayes.html#bernoulli-naive-bayes)\n",
    "    * [pyplot](https://matplotlib.org/tutorials/introductory/pyplot.html)\n",
    "* Markdown\n",
    "    * jupyter 可以支援 markdown 區塊，方便打上文字說明此份 notebook 在做的事情\n",
    "    * [wiki](https://zh.wikipedia.org/wiki/Markdown)\n",
    "    * [教學](https://markdown.tw/)"
   ]
  },
  {
   "cell_type": "markdown",
   "metadata": {},
   "source": [
    "## 1. Load Data - 40%\n",
    "\n",
    "#### 請使用 `pandas` 中的 `read_table` 讀取 car.txt - 10% - [Hint,會用到的參數有names及sep](https://pandas.pydata.org/pandas-docs/stable/reference/api/pandas.read_table.html)"
   ]
  },
  {
   "cell_type": "code",
   "execution_count": 18,
   "metadata": {},
   "outputs": [
    {
     "data": {
      "text/html": [
       "<div>\n",
       "<style scoped>\n",
       "    .dataframe tbody tr th:only-of-type {\n",
       "        vertical-align: middle;\n",
       "    }\n",
       "\n",
       "    .dataframe tbody tr th {\n",
       "        vertical-align: top;\n",
       "    }\n",
       "\n",
       "    .dataframe thead th {\n",
       "        text-align: right;\n",
       "    }\n",
       "</style>\n",
       "<table border=\"1\" class=\"dataframe\">\n",
       "  <thead>\n",
       "    <tr style=\"text-align: right;\">\n",
       "      <th></th>\n",
       "      <th>buying</th>\n",
       "      <th>maint</th>\n",
       "      <th>doors</th>\n",
       "      <th>persons</th>\n",
       "      <th>lug_boot</th>\n",
       "      <th>safety</th>\n",
       "      <th>class_value</th>\n",
       "    </tr>\n",
       "  </thead>\n",
       "  <tbody>\n",
       "    <tr>\n",
       "      <td>0</td>\n",
       "      <td>vhigh</td>\n",
       "      <td>vhigh</td>\n",
       "      <td>2</td>\n",
       "      <td>2</td>\n",
       "      <td>small</td>\n",
       "      <td>low</td>\n",
       "      <td>unacc</td>\n",
       "    </tr>\n",
       "    <tr>\n",
       "      <td>1</td>\n",
       "      <td>vhigh</td>\n",
       "      <td>vhigh</td>\n",
       "      <td>2</td>\n",
       "      <td>2</td>\n",
       "      <td>small</td>\n",
       "      <td>med</td>\n",
       "      <td>unacc</td>\n",
       "    </tr>\n",
       "    <tr>\n",
       "      <td>2</td>\n",
       "      <td>vhigh</td>\n",
       "      <td>vhigh</td>\n",
       "      <td>2</td>\n",
       "      <td>2</td>\n",
       "      <td>small</td>\n",
       "      <td>high</td>\n",
       "      <td>unacc</td>\n",
       "    </tr>\n",
       "    <tr>\n",
       "      <td>3</td>\n",
       "      <td>vhigh</td>\n",
       "      <td>vhigh</td>\n",
       "      <td>2</td>\n",
       "      <td>2</td>\n",
       "      <td>med</td>\n",
       "      <td>low</td>\n",
       "      <td>unacc</td>\n",
       "    </tr>\n",
       "    <tr>\n",
       "      <td>4</td>\n",
       "      <td>vhigh</td>\n",
       "      <td>vhigh</td>\n",
       "      <td>2</td>\n",
       "      <td>2</td>\n",
       "      <td>med</td>\n",
       "      <td>med</td>\n",
       "      <td>unacc</td>\n",
       "    </tr>\n",
       "    <tr>\n",
       "      <td>...</td>\n",
       "      <td>...</td>\n",
       "      <td>...</td>\n",
       "      <td>...</td>\n",
       "      <td>...</td>\n",
       "      <td>...</td>\n",
       "      <td>...</td>\n",
       "      <td>...</td>\n",
       "    </tr>\n",
       "    <tr>\n",
       "      <td>1723</td>\n",
       "      <td>low</td>\n",
       "      <td>low</td>\n",
       "      <td>5more</td>\n",
       "      <td>more</td>\n",
       "      <td>med</td>\n",
       "      <td>med</td>\n",
       "      <td>good</td>\n",
       "    </tr>\n",
       "    <tr>\n",
       "      <td>1724</td>\n",
       "      <td>low</td>\n",
       "      <td>low</td>\n",
       "      <td>5more</td>\n",
       "      <td>more</td>\n",
       "      <td>med</td>\n",
       "      <td>high</td>\n",
       "      <td>vgood</td>\n",
       "    </tr>\n",
       "    <tr>\n",
       "      <td>1725</td>\n",
       "      <td>low</td>\n",
       "      <td>low</td>\n",
       "      <td>5more</td>\n",
       "      <td>more</td>\n",
       "      <td>big</td>\n",
       "      <td>low</td>\n",
       "      <td>unacc</td>\n",
       "    </tr>\n",
       "    <tr>\n",
       "      <td>1726</td>\n",
       "      <td>low</td>\n",
       "      <td>low</td>\n",
       "      <td>5more</td>\n",
       "      <td>more</td>\n",
       "      <td>big</td>\n",
       "      <td>med</td>\n",
       "      <td>good</td>\n",
       "    </tr>\n",
       "    <tr>\n",
       "      <td>1727</td>\n",
       "      <td>low</td>\n",
       "      <td>low</td>\n",
       "      <td>5more</td>\n",
       "      <td>more</td>\n",
       "      <td>big</td>\n",
       "      <td>high</td>\n",
       "      <td>vgood</td>\n",
       "    </tr>\n",
       "  </tbody>\n",
       "</table>\n",
       "<p>1728 rows × 7 columns</p>\n",
       "</div>"
      ],
      "text/plain": [
       "     buying  maint  doors persons lug_boot safety class_value\n",
       "0     vhigh  vhigh      2       2    small    low       unacc\n",
       "1     vhigh  vhigh      2       2    small    med       unacc\n",
       "2     vhigh  vhigh      2       2    small   high       unacc\n",
       "3     vhigh  vhigh      2       2      med    low       unacc\n",
       "4     vhigh  vhigh      2       2      med    med       unacc\n",
       "...     ...    ...    ...     ...      ...    ...         ...\n",
       "1723    low    low  5more    more      med    med        good\n",
       "1724    low    low  5more    more      med   high       vgood\n",
       "1725    low    low  5more    more      big    low       unacc\n",
       "1726    low    low  5more    more      big    med        good\n",
       "1727    low    low  5more    more      big   high       vgood\n",
       "\n",
       "[1728 rows x 7 columns]"
      ]
     },
     "execution_count": 18,
     "metadata": {},
     "output_type": "execute_result"
    }
   ],
   "source": [
    "car = 'Your code here'\n",
    "car"
   ]
  },
  {
   "cell_type": "markdown",
   "metadata": {},
   "source": [
    "## 分析\n",
    "\n",
    "#### 印出 `car` 的 `前五筆資料` - 5% - [Hint](https://pandas.pydata.org/pandas-docs/stable/reference/api/pandas.DataFrame.head.html)"
   ]
  },
  {
   "cell_type": "code",
   "execution_count": 21,
   "metadata": {},
   "outputs": [
    {
     "name": "stdout",
     "output_type": "stream",
     "text": [
      "  buying  maint doors persons lug_boot safety class_value\n",
      "0  vhigh  vhigh     2       2    small    low       unacc\n",
      "1  vhigh  vhigh     2       2    small    med       unacc\n",
      "2  vhigh  vhigh     2       2    small   high       unacc\n",
      "3  vhigh  vhigh     2       2      med    low       unacc\n",
      "4  vhigh  vhigh     2       2      med    med       unacc\n"
     ]
    }
   ],
   "source": [
    "'Your code here'"
   ]
  },
  {
   "cell_type": "markdown",
   "metadata": {},
   "source": [
    "#### 印出 `car` 的 **shape** - 5% - [hint](https://pandas.pydata.org/pandas-docs/stable/reference/api/pandas.DataFrame.shape.html)"
   ]
  },
  {
   "cell_type": "code",
   "execution_count": 23,
   "metadata": {},
   "outputs": [
    {
     "name": "stdout",
     "output_type": "stream",
     "text": [
      "(1728, 7)\n"
     ]
    }
   ],
   "source": [
    "'Your code here'"
   ]
  },
  {
   "cell_type": "markdown",
   "metadata": {},
   "source": [
    "> #### 可以看出 `car dataset` 具有 1728 筆資料，而每筆資料有 6 個 features 和 1 個 label(target)"
   ]
  },
  {
   "cell_type": "markdown",
   "metadata": {},
   "source": [
    "#### 只印出 `car` 的 `doors` 的部分 - 5%\n",
    " * 可以google pandas, dataframe, print, column這些關鍵字~ "
   ]
  },
  {
   "cell_type": "code",
   "execution_count": 31,
   "metadata": {},
   "outputs": [
    {
     "data": {
      "text/plain": [
       "0           2\n",
       "1           2\n",
       "2           2\n",
       "3           2\n",
       "4           2\n",
       "        ...  \n",
       "1723    5more\n",
       "1724    5more\n",
       "1725    5more\n",
       "1726    5more\n",
       "1727    5more\n",
       "Name: doors, Length: 1728, dtype: object"
      ]
     },
     "execution_count": 31,
     "metadata": {},
     "output_type": "execute_result"
    }
   ],
   "source": [
    "'Your code here'"
   ]
  },
  {
   "cell_type": "markdown",
   "metadata": {},
   "source": [
    "#### 印出 `car` 的 target (label) - 5%"
   ]
  },
  {
   "cell_type": "code",
   "execution_count": 30,
   "metadata": {},
   "outputs": [
    {
     "data": {
      "text/plain": [
       "0       unacc\n",
       "1       unacc\n",
       "2       unacc\n",
       "3       unacc\n",
       "4       unacc\n",
       "        ...  \n",
       "1723     good\n",
       "1724    vgood\n",
       "1725    unacc\n",
       "1726     good\n",
       "1727    vgood\n",
       "Name: class_value, Length: 1728, dtype: object"
      ]
     },
     "execution_count": 30,
     "metadata": {},
     "output_type": "execute_result"
    }
   ],
   "source": [
    "'Your code here'"
   ]
  },
  {
   "cell_type": "markdown",
   "metadata": {},
   "source": [
    "#### 印出 `car` 的第 100, 150, 500, 1070 個 data instances （並包含其 target / label） - 10% - [Hint](https://pandas.pydata.org/pandas-docs/stable/reference/api/pandas.DataFrame.iloc.html)\n",
    "\n",
    "Note: 格式可以稍微不同"
   ]
  },
  {
   "cell_type": "code",
   "execution_count": 45,
   "metadata": {},
   "outputs": [
    {
     "data": {
      "text/html": [
       "<div>\n",
       "<style scoped>\n",
       "    .dataframe tbody tr th:only-of-type {\n",
       "        vertical-align: middle;\n",
       "    }\n",
       "\n",
       "    .dataframe tbody tr th {\n",
       "        vertical-align: top;\n",
       "    }\n",
       "\n",
       "    .dataframe thead th {\n",
       "        text-align: right;\n",
       "    }\n",
       "</style>\n",
       "<table border=\"1\" class=\"dataframe\">\n",
       "  <thead>\n",
       "    <tr style=\"text-align: right;\">\n",
       "      <th></th>\n",
       "      <th>buying</th>\n",
       "      <th>maint</th>\n",
       "      <th>doors</th>\n",
       "      <th>persons</th>\n",
       "      <th>lug_boot</th>\n",
       "      <th>safety</th>\n",
       "      <th>class_value</th>\n",
       "    </tr>\n",
       "  </thead>\n",
       "  <tbody>\n",
       "    <tr>\n",
       "      <td>100</td>\n",
       "      <td>vhigh</td>\n",
       "      <td>vhigh</td>\n",
       "      <td>5more</td>\n",
       "      <td>more</td>\n",
       "      <td>small</td>\n",
       "      <td>med</td>\n",
       "      <td>unacc</td>\n",
       "    </tr>\n",
       "    <tr>\n",
       "      <td>150</td>\n",
       "      <td>vhigh</td>\n",
       "      <td>high</td>\n",
       "      <td>3</td>\n",
       "      <td>4</td>\n",
       "      <td>big</td>\n",
       "      <td>low</td>\n",
       "      <td>unacc</td>\n",
       "    </tr>\n",
       "    <tr>\n",
       "      <td>500</td>\n",
       "      <td>high</td>\n",
       "      <td>vhigh</td>\n",
       "      <td>4</td>\n",
       "      <td>4</td>\n",
       "      <td>med</td>\n",
       "      <td>high</td>\n",
       "      <td>unacc</td>\n",
       "    </tr>\n",
       "    <tr>\n",
       "      <td>1070</td>\n",
       "      <td>med</td>\n",
       "      <td>high</td>\n",
       "      <td>5more</td>\n",
       "      <td>4</td>\n",
       "      <td>big</td>\n",
       "      <td>high</td>\n",
       "      <td>acc</td>\n",
       "    </tr>\n",
       "  </tbody>\n",
       "</table>\n",
       "</div>"
      ],
      "text/plain": [
       "     buying  maint  doors persons lug_boot safety class_value\n",
       "100   vhigh  vhigh  5more    more    small    med       unacc\n",
       "150   vhigh   high      3       4      big    low       unacc\n",
       "500    high  vhigh      4       4      med   high       unacc\n",
       "1070    med   high  5more       4      big   high         acc"
      ]
     },
     "execution_count": 45,
     "metadata": {},
     "output_type": "execute_result"
    }
   ],
   "source": [
    "indices = [100, 150, 500, 1070]\n",
    "'Your code here'"
   ]
  },
  {
   "cell_type": "markdown",
   "metadata": {},
   "source": [
    "## 2. Data Preprocessing - 30%"
   ]
  },
  {
   "cell_type": "markdown",
   "metadata": {},
   "source": [
    "### Label Encoder - 15%\n",
    "- 在進行以下步驟之前，助教先將dataframe轉成numpy，有利於以下的作業\n",
    "    - 將 categorical(離散型資料) 進行label encoding，其功能為將離散型資料轉換為數值型態以方便後續模型處理，需要注意的是此轉換僅保留了數據的不相同部分特徵，若為處理距離的模型還需要另做轉換。\n",
    "    - Encoding完之後，將 `cars` 的feature及target分開成兩個變數。"
   ]
  },
  {
   "cell_type": "code",
   "execution_count": 47,
   "metadata": {},
   "outputs": [
    {
     "name": "stdout",
     "output_type": "stream",
     "text": [
      "feature: [[3 3 0 0 2 1]\n",
      " [3 3 0 0 2 2]\n",
      " [3 3 0 0 2 0]\n",
      " ...\n",
      " [1 1 3 2 0 1]\n",
      " [1 1 3 2 0 2]\n",
      " [1 1 3 2 0 0]]\n",
      "target: [2 2 2 ... 2 1 3]\n"
     ]
    }
   ],
   "source": [
    "cars = np.array(car)\n",
    "le = preprocessing.LabelEncoder()\n",
    "'Your code here'"
   ]
  },
  {
   "cell_type": "markdown",
   "metadata": {},
   "source": [
    "### Splitting Data - 15%\n",
    " - 將資料分成training與testing set - [Hint](https://scikit-learn.org/stable/modules/generated/sklearn.model_selection.train_test_split.html)\n",
    " - 將training data 與 testing data 以8:2的比例下去分\n",
    " - Random_state設42\n",
    " "
   ]
  },
  {
   "cell_type": "code",
   "execution_count": 49,
   "metadata": {},
   "outputs": [],
   "source": [
    "X_train, X_test, y_train, y_test = 'Your code here'"
   ]
  },
  {
   "cell_type": "markdown",
   "metadata": {},
   "source": [
    "## 3. Training Naive Bayes - 25% - [Hint](https://scikit-learn.org/stable/modules/naive_bayes.html)\n",
    " * 分別對 GaussianNB, BernoulliNB, MultinomialNB 用 training data 進行 training\n",
    " * 預測時使用testing data進行預測，並將預測準確率印出來(就是拿predict出來的target跟原本的target對答案)"
   ]
  },
  {
   "cell_type": "code",
   "execution_count": 51,
   "metadata": {},
   "outputs": [
    {
     "name": "stdout",
     "output_type": "stream",
     "text": [
      "Gaussian: 0.6242774566473989\n",
      "Bernoulli: 0.7312138728323699\n",
      "Multinomial: 0.684971098265896\n"
     ]
    }
   ],
   "source": [
    "gnb = GaussianNB()\n",
    "clf = BernoulliNB()\n",
    "mlf = MultinomialNB()\n",
    "'Your code here'"
   ]
  },
  {
   "cell_type": "markdown",
   "metadata": {},
   "source": [
    "## 有沒有什麼想對助教說的話?"
   ]
  },
  {
   "cell_type": "markdown",
   "metadata": {},
   "source": [
    "![](https://i.imgur.com/31NjDYX.gif?noredirect)"
   ]
  }
 ],
 "metadata": {
  "kernelspec": {
   "display_name": "Python 3",
   "language": "python",
   "name": "python3"
  },
  "language_info": {
   "codemirror_mode": {
    "name": "ipython",
    "version": 3
   },
   "file_extension": ".py",
   "mimetype": "text/x-python",
   "name": "python",
   "nbconvert_exporter": "python",
   "pygments_lexer": "ipython3",
   "version": "3.7.5-final"
  }
 },
 "nbformat": 4,
 "nbformat_minor": 4
}