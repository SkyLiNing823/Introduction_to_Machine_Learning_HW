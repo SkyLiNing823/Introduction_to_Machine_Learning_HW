{
 "cells": [
  {
   "cell_type": "markdown",
   "metadata": {},
   "source": [
    "# HW1 - Data Analysis\n",
    "##### 負責助教：陳亮宇 catchingfire80@gmail.com\n",
    " \n",
    "\n",
    "> 此次作業將讓大家確認自己的環境是否安裝成功，  \n",
    "> 以及 Numpy / Scikit-Learn / Matplotlib 的基本使用\n",
    "\n",
    "---\n",
    "## 評分標準\n",
    "* 上課繳交：25%\n",
    "    * 在當天 16:20 前上傳至 new E3 作業，請將以下打包成 .zip 上傳：\n",
    "        * 程式原始檔 (.ipynb）\n",
    "        * 程式 .html 檔\n",
    "* 程式分數：75%\n",
    "    * 於一週內完成並上傳至 new E3\n",
    "\n",
    "#### 注意：最終學期成績將視全班原始成績做調整\n",
    "\n",
    "---"
   ]
  },
  {
   "cell_type": "markdown",
   "metadata": {},
   "source": [
    "## 基本資料 - 5%\n",
    "\n",
    "#### 姓名：李天寧\n",
    "#### 學號：109705002"
   ]
  },
  {
   "cell_type": "markdown",
   "metadata": {},
   "source": [
    "## Packages that Might Be Used"
   ]
  },
  {
   "cell_type": "code",
   "execution_count": 1,
   "metadata": {},
   "outputs": [],
   "source": [
    "import sklearn\n",
    "import sklearn.datasets\n",
    "import numpy as np\n",
    "\n",
    "import matplotlib.pyplot as plt\n",
    "%matplotlib inline"
   ]
  },
  {
   "cell_type": "markdown",
   "metadata": {},
   "source": [
    "### 相關連結\n",
    "\n",
    "* Packages\n",
    "    * [numpy](http://www.numpy.org/)\n",
    "    * [pandas](https://pandas.pydata.org/)\n",
    "    * [re](https://docs.python.org/zh-cn/3/library/re.html)\n",
    "    * [CountVectorizer](https://scikit-learn.org/stable/modules/generated/sklearn.feature_extraction.text.CountVectorizer.html)\n",
    "    * [LabelEncoder](https://scikit-learn.org/stable/modules/generated/sklearn.preprocessing.LabelEncoder.html)\n",
    "    * [difflib](https://docs.python.org/2/library/difflib.html)\n",
    "    * [train_test_split](https://scikit-learn.org/stable/modules/generated/sklearn.model_selection.train_test_split.html)\n",
    "    * [DecisionTreeClassifier](https://scikit-learn.org/stable/modules/tree.html)\n",
    "    * [RandomForestClassifier](https://scikit-learn.org/stable/modules/generated/sklearn.ensemble.RandomForestClassifier.html)\n",
    "    * [classification_report](https://scikit-learn.org/stable/modules/generated/sklearn.metrics.classification_report.html)\n",
    "    * [confusion_matrix](https://scikit-learn.org/stable/modules/generated/sklearn.metrics.confusion_matrix.html)\n",
    "    * [pyplot](https://matplotlib.org/tutorials/introductory/pyplot.html)\n",
    "    * [pyhotpot](https://reurl.cc/dVyqz8)\n",
    "* Markdown\n",
    "    * jupyter 可以支援 markdown 區塊，方便打上文字說明此份 notebook 在做的事情\n",
    "    * [wiki](https://zh.wikipedia.org/wiki/Markdown)\n",
    "    * [教學](https://markdown.tw/)"
   ]
  },
  {
   "cell_type": "markdown",
   "metadata": {},
   "source": [
    "## Load Data\n",
    "\n",
    "#### 請使用 `scikit-learn` 讀取 Wine Dataset - 5% - [Hint](https://scikit-learn.org/stable/modules/generated/sklearn.datasets.load_wine.html)"
   ]
  },
  {
   "cell_type": "code",
   "execution_count": 16,
   "metadata": {},
   "outputs": [
    {
     "data": {
      "text/plain": [
       "{'data': array([[1.423e+01, 1.710e+00, 2.430e+00, ..., 1.040e+00, 3.920e+00,\n",
       "         1.065e+03],\n",
       "        [1.320e+01, 1.780e+00, 2.140e+00, ..., 1.050e+00, 3.400e+00,\n",
       "         1.050e+03],\n",
       "        [1.316e+01, 2.360e+00, 2.670e+00, ..., 1.030e+00, 3.170e+00,\n",
       "         1.185e+03],\n",
       "        ...,\n",
       "        [1.327e+01, 4.280e+00, 2.260e+00, ..., 5.900e-01, 1.560e+00,\n",
       "         8.350e+02],\n",
       "        [1.317e+01, 2.590e+00, 2.370e+00, ..., 6.000e-01, 1.620e+00,\n",
       "         8.400e+02],\n",
       "        [1.413e+01, 4.100e+00, 2.740e+00, ..., 6.100e-01, 1.600e+00,\n",
       "         5.600e+02]]),\n",
       " 'target': array([0, 0, 0, 0, 0, 0, 0, 0, 0, 0, 0, 0, 0, 0, 0, 0, 0, 0, 0, 0, 0, 0,\n",
       "        0, 0, 0, 0, 0, 0, 0, 0, 0, 0, 0, 0, 0, 0, 0, 0, 0, 0, 0, 0, 0, 0,\n",
       "        0, 0, 0, 0, 0, 0, 0, 0, 0, 0, 0, 0, 0, 0, 0, 1, 1, 1, 1, 1, 1, 1,\n",
       "        1, 1, 1, 1, 1, 1, 1, 1, 1, 1, 1, 1, 1, 1, 1, 1, 1, 1, 1, 1, 1, 1,\n",
       "        1, 1, 1, 1, 1, 1, 1, 1, 1, 1, 1, 1, 1, 1, 1, 1, 1, 1, 1, 1, 1, 1,\n",
       "        1, 1, 1, 1, 1, 1, 1, 1, 1, 1, 1, 1, 1, 1, 1, 1, 1, 1, 1, 1, 2, 2,\n",
       "        2, 2, 2, 2, 2, 2, 2, 2, 2, 2, 2, 2, 2, 2, 2, 2, 2, 2, 2, 2, 2, 2,\n",
       "        2, 2, 2, 2, 2, 2, 2, 2, 2, 2, 2, 2, 2, 2, 2, 2, 2, 2, 2, 2, 2, 2,\n",
       "        2, 2]),\n",
       " 'frame': None,\n",
       " 'target_names': array(['class_0', 'class_1', 'class_2'], dtype='<U7'),\n",
       " 'DESCR': '.. _wine_dataset:\\n\\nWine recognition dataset\\n------------------------\\n\\n**Data Set Characteristics:**\\n\\n    :Number of Instances: 178 (50 in each of three classes)\\n    :Number of Attributes: 13 numeric, predictive attributes and the class\\n    :Attribute Information:\\n \\t\\t- Alcohol\\n \\t\\t- Malic acid\\n \\t\\t- Ash\\n\\t\\t- Alcalinity of ash  \\n \\t\\t- Magnesium\\n\\t\\t- Total phenols\\n \\t\\t- Flavanoids\\n \\t\\t- Nonflavanoid phenols\\n \\t\\t- Proanthocyanins\\n\\t\\t- Color intensity\\n \\t\\t- Hue\\n \\t\\t- OD280/OD315 of diluted wines\\n \\t\\t- Proline\\n\\n    - class:\\n            - class_0\\n            - class_1\\n            - class_2\\n\\t\\t\\n    :Summary Statistics:\\n    \\n    ============================= ==== ===== ======= =====\\n                                   Min   Max   Mean     SD\\n    ============================= ==== ===== ======= =====\\n    Alcohol:                      11.0  14.8    13.0   0.8\\n    Malic Acid:                   0.74  5.80    2.34  1.12\\n    Ash:                          1.36  3.23    2.36  0.27\\n    Alcalinity of Ash:            10.6  30.0    19.5   3.3\\n    Magnesium:                    70.0 162.0    99.7  14.3\\n    Total Phenols:                0.98  3.88    2.29  0.63\\n    Flavanoids:                   0.34  5.08    2.03  1.00\\n    Nonflavanoid Phenols:         0.13  0.66    0.36  0.12\\n    Proanthocyanins:              0.41  3.58    1.59  0.57\\n    Colour Intensity:              1.3  13.0     5.1   2.3\\n    Hue:                          0.48  1.71    0.96  0.23\\n    OD280/OD315 of diluted wines: 1.27  4.00    2.61  0.71\\n    Proline:                       278  1680     746   315\\n    ============================= ==== ===== ======= =====\\n\\n    :Missing Attribute Values: None\\n    :Class Distribution: class_0 (59), class_1 (71), class_2 (48)\\n    :Creator: R.A. Fisher\\n    :Donor: Michael Marshall (MARSHALL%PLU@io.arc.nasa.gov)\\n    :Date: July, 1988\\n\\nThis is a copy of UCI ML Wine recognition datasets.\\nhttps://archive.ics.uci.edu/ml/machine-learning-databases/wine/wine.data\\n\\nThe data is the results of a chemical analysis of wines grown in the same\\nregion in Italy by three different cultivators. There are thirteen different\\nmeasurements taken for different constituents found in the three types of\\nwine.\\n\\nOriginal Owners: \\n\\nForina, M. et al, PARVUS - \\nAn Extendible Package for Data Exploration, Classification and Correlation. \\nInstitute of Pharmaceutical and Food Analysis and Technologies,\\nVia Brigata Salerno, 16147 Genoa, Italy.\\n\\nCitation:\\n\\nLichman, M. (2013). UCI Machine Learning Repository\\n[https://archive.ics.uci.edu/ml]. Irvine, CA: University of California,\\nSchool of Information and Computer Science. \\n\\n.. topic:: References\\n\\n  (1) S. Aeberhard, D. Coomans and O. de Vel, \\n  Comparison of Classifiers in High Dimensional Settings, \\n  Tech. Rep. no. 92-02, (1992), Dept. of Computer Science and Dept. of  \\n  Mathematics and Statistics, James Cook University of North Queensland. \\n  (Also submitted to Technometrics). \\n\\n  The data was used with many others for comparing various \\n  classifiers. The classes are separable, though only RDA \\n  has achieved 100% correct classification. \\n  (RDA : 100%, QDA 99.4%, LDA 98.9%, 1NN 96.1% (z-transformed data)) \\n  (All results using the leave-one-out technique) \\n\\n  (2) S. Aeberhard, D. Coomans and O. de Vel, \\n  \"THE CLASSIFICATION PERFORMANCE OF RDA\" \\n  Tech. Rep. no. 92-01, (1992), Dept. of Computer Science and Dept. of \\n  Mathematics and Statistics, James Cook University of North Queensland. \\n  (Also submitted to Journal of Chemometrics).\\n',\n",
       " 'feature_names': ['alcohol',\n",
       "  'malic_acid',\n",
       "  'ash',\n",
       "  'alcalinity_of_ash',\n",
       "  'magnesium',\n",
       "  'total_phenols',\n",
       "  'flavanoids',\n",
       "  'nonflavanoid_phenols',\n",
       "  'proanthocyanins',\n",
       "  'color_intensity',\n",
       "  'hue',\n",
       "  'od280/od315_of_diluted_wines',\n",
       "  'proline']}"
      ]
     },
     "execution_count": 16,
     "metadata": {},
     "output_type": "execute_result"
    }
   ],
   "source": [
    "#sklearn.datasets.load_wine( return_X_y=False, as_frame=False)\n",
    "wine=sklearn.datasets.load_wine()\n",
    "wine"
   ]
  },
  {
   "cell_type": "markdown",
   "metadata": {},
   "source": [
    "## 問題\n",
    "請簡述以下問題，將 ans 取代為你的答案 - 5%\n",
    "1. 請問以上 wine 的 target 有幾種分類？每種分類又分別有多少筆資料?\n",
    "    * 3種，0有59筆， 1有71筆 ，2有48筆"
   ]
  },
  {
   "cell_type": "markdown",
   "metadata": {},
   "source": [
    "---\n",
    "> `wine dataset` 為一 classification（分類）問題，  \n",
    "> 在一個經典的 classfication 問題中，一筆資料（又稱一 data instance）將包含以下部分：\n",
    "> * feature （或叫 attribute ）部分\n",
    ">    * 此筆資料的各項屬性\n",
    "> * target（或叫 label）部分\n",
    ">     * 此筆資料的分類\n",
    "\n",
    "---"
   ]
  },
  {
   "cell_type": "markdown",
   "metadata": {},
   "source": [
    "## 分析\n",
    "\n",
    "#### 印出 `wine` 的 `data` 部分 - 5%"
   ]
  },
  {
   "cell_type": "code",
   "execution_count": 17,
   "metadata": {},
   "outputs": [
    {
     "data": {
      "text/plain": [
       "array([[1.423e+01, 1.710e+00, 2.430e+00, ..., 1.040e+00, 3.920e+00,\n",
       "        1.065e+03],\n",
       "       [1.320e+01, 1.780e+00, 2.140e+00, ..., 1.050e+00, 3.400e+00,\n",
       "        1.050e+03],\n",
       "       [1.316e+01, 2.360e+00, 2.670e+00, ..., 1.030e+00, 3.170e+00,\n",
       "        1.185e+03],\n",
       "       ...,\n",
       "       [1.327e+01, 4.280e+00, 2.260e+00, ..., 5.900e-01, 1.560e+00,\n",
       "        8.350e+02],\n",
       "       [1.317e+01, 2.590e+00, 2.370e+00, ..., 6.000e-01, 1.620e+00,\n",
       "        8.400e+02],\n",
       "       [1.413e+01, 4.100e+00, 2.740e+00, ..., 6.100e-01, 1.600e+00,\n",
       "        5.600e+02]])"
      ]
     },
     "execution_count": 17,
     "metadata": {},
     "output_type": "execute_result"
    }
   ],
   "source": [
    "wine['data']"
   ]
  },
  {
   "cell_type": "markdown",
   "metadata": {},
   "source": [
    "#### 印出 `wine` 的 `data` 部分的 **shape** - 5% - [hint](https://docs.scipy.org/doc/numpy/reference/generated/numpy.ndarray.shape.html)"
   ]
  },
  {
   "cell_type": "code",
   "execution_count": 18,
   "metadata": {},
   "outputs": [
    {
     "data": {
      "text/plain": [
       "(178, 13)"
      ]
     },
     "execution_count": 18,
     "metadata": {},
     "output_type": "execute_result"
    }
   ],
   "source": [
    "wine['data'].shape"
   ]
  },
  {
   "cell_type": "markdown",
   "metadata": {},
   "source": [
    "> #### 可以看出 `wine dataset` 具有 178 筆資料，而每筆資料有 13 個 features"
   ]
  },
  {
   "cell_type": "markdown",
   "metadata": {},
   "source": [
    "#### 印出 `wine` 的 feature - 5%"
   ]
  },
  {
   "cell_type": "code",
   "execution_count": 20,
   "metadata": {},
   "outputs": [
    {
     "data": {
      "text/plain": [
       "['alcohol',\n",
       " 'malic_acid',\n",
       " 'ash',\n",
       " 'alcalinity_of_ash',\n",
       " 'magnesium',\n",
       " 'total_phenols',\n",
       " 'flavanoids',\n",
       " 'nonflavanoid_phenols',\n",
       " 'proanthocyanins',\n",
       " 'color_intensity',\n",
       " 'hue',\n",
       " 'od280/od315_of_diluted_wines',\n",
       " 'proline']"
      ]
     },
     "execution_count": 20,
     "metadata": {},
     "output_type": "execute_result"
    }
   ],
   "source": [
    "wine['feature_names']"
   ]
  },
  {
   "cell_type": "markdown",
   "metadata": {},
   "source": [
    "#### 印出 `wine` 的 target (label) - 5%"
   ]
  },
  {
   "cell_type": "code",
   "execution_count": 21,
   "metadata": {},
   "outputs": [
    {
     "data": {
      "text/plain": [
       "array([0, 0, 0, 0, 0, 0, 0, 0, 0, 0, 0, 0, 0, 0, 0, 0, 0, 0, 0, 0, 0, 0,\n",
       "       0, 0, 0, 0, 0, 0, 0, 0, 0, 0, 0, 0, 0, 0, 0, 0, 0, 0, 0, 0, 0, 0,\n",
       "       0, 0, 0, 0, 0, 0, 0, 0, 0, 0, 0, 0, 0, 0, 0, 1, 1, 1, 1, 1, 1, 1,\n",
       "       1, 1, 1, 1, 1, 1, 1, 1, 1, 1, 1, 1, 1, 1, 1, 1, 1, 1, 1, 1, 1, 1,\n",
       "       1, 1, 1, 1, 1, 1, 1, 1, 1, 1, 1, 1, 1, 1, 1, 1, 1, 1, 1, 1, 1, 1,\n",
       "       1, 1, 1, 1, 1, 1, 1, 1, 1, 1, 1, 1, 1, 1, 1, 1, 1, 1, 1, 1, 2, 2,\n",
       "       2, 2, 2, 2, 2, 2, 2, 2, 2, 2, 2, 2, 2, 2, 2, 2, 2, 2, 2, 2, 2, 2,\n",
       "       2, 2, 2, 2, 2, 2, 2, 2, 2, 2, 2, 2, 2, 2, 2, 2, 2, 2, 2, 2, 2, 2,\n",
       "       2, 2])"
      ]
     },
     "execution_count": 21,
     "metadata": {},
     "output_type": "execute_result"
    }
   ],
   "source": [
    "wine['target']"
   ]
  },
  {
   "cell_type": "markdown",
   "metadata": {},
   "source": [
    "#### 印出 `wine` 的第 39, 48, 99, 170 個 data instances （並包含其 target / label） - 10% - [Hint](https://docs.scipy.org/doc/numpy/reference/arrays.indexing.html)\n",
    "\n",
    "Note: 格式可以稍微不同"
   ]
  },
  {
   "cell_type": "code",
   "execution_count": 27,
   "metadata": {},
   "outputs": [
    {
     "name": "stdout",
     "output_type": "stream",
     "text": [
      "39 th: [1.422e+01 3.990e+00 2.510e+00 1.320e+01 1.280e+02 3.000e+00 3.040e+00\n",
      " 2.000e-01 2.080e+00 5.100e+00 8.900e-01 3.530e+00 7.600e+02] 0\n",
      "48 th: [1.41e+01 2.02e+00 2.40e+00 1.88e+01 1.03e+02 2.75e+00 2.92e+00 3.20e-01\n",
      " 2.38e+00 6.20e+00 1.07e+00 2.75e+00 1.06e+03] 0\n",
      "99 th: [ 12.29   3.17   2.21  18.    88.     2.85   2.99   0.45   2.81   2.3\n",
      "   1.42   2.83 406.  ] 1\n",
      "170 th: [1.22e+01 3.03e+00 2.32e+00 1.90e+01 9.60e+01 1.25e+00 4.90e-01 4.00e-01\n",
      " 7.30e-01 5.50e+00 6.60e-01 1.83e+00 5.10e+02] 2\n"
     ]
    }
   ],
   "source": [
    "indices = [39, 48, 99, 170]\n",
    "index=4\n",
    "for i in range(index):\n",
    "    print(indices[i],\"th:\",wine.data[indices[i]],wine.target[indices[i]])"
   ]
  },
  {
   "cell_type": "markdown",
   "metadata": {},
   "source": [
    "#### 計算 `wine` 中所有 feature 的以下數值並印出： - 20%\n",
    "* minimum\n",
    "* maximum\n",
    "* [median](https://docs.scipy.org/doc/numpy/reference/generated/numpy.median.html)\n",
    "* mean\n",
    "* standard deviation"
   ]
  },
  {
   "cell_type": "code",
   "execution_count": 77,
   "metadata": {},
   "outputs": [
    {
     "name": "stdout",
     "output_type": "stream",
     "text": [
      "alcohol \n",
      "\n",
      "14.23\n",
      "1.71\n",
      "2.43\n",
      "15.6\n",
      "127.0\n",
      "2.8\n",
      "3.06\n",
      "0.28\n",
      "2.29\n",
      "5.64\n",
      "1.04\n",
      "3.92\n",
      "1065.0\n",
      "malic_acid \n",
      "\n",
      "13.2\n",
      "1.78\n",
      "2.14\n",
      "11.2\n",
      "100.0\n",
      "2.65\n",
      "2.76\n",
      "0.26\n",
      "1.28\n",
      "4.38\n",
      "1.05\n",
      "3.4\n",
      "1050.0\n",
      "ash \n",
      "\n",
      "13.16\n",
      "2.36\n",
      "2.67\n",
      "18.6\n",
      "101.0\n",
      "2.8\n",
      "3.24\n",
      "0.3\n",
      "2.81\n",
      "5.68\n",
      "1.03\n",
      "3.17\n",
      "1185.0\n",
      "alcalinity_of_ash \n",
      "\n",
      "14.37\n",
      "1.95\n",
      "2.5\n",
      "16.8\n",
      "113.0\n",
      "3.85\n",
      "3.49\n",
      "0.24\n",
      "2.18\n",
      "7.8\n",
      "0.86\n",
      "3.45\n",
      "1480.0\n",
      "magnesium \n",
      "\n",
      "13.24\n",
      "2.59\n",
      "2.87\n",
      "21.0\n",
      "118.0\n",
      "2.8\n",
      "2.69\n",
      "0.39\n",
      "1.82\n",
      "4.32\n",
      "1.04\n",
      "2.93\n",
      "735.0\n",
      "total_phenols \n",
      "\n",
      "14.2\n",
      "1.76\n",
      "2.45\n",
      "15.2\n",
      "112.0\n",
      "3.27\n",
      "3.39\n",
      "0.34\n",
      "1.97\n",
      "6.75\n",
      "1.05\n",
      "2.85\n",
      "1450.0\n",
      "flavanoids \n",
      "\n",
      "14.39\n",
      "1.87\n",
      "2.45\n",
      "14.6\n",
      "96.0\n",
      "2.5\n",
      "2.52\n",
      "0.3\n",
      "1.98\n",
      "5.25\n",
      "1.02\n",
      "3.58\n",
      "1290.0\n"
     ]
    }
   ],
   "source": [
    "for i in range(7):\n",
    "    print(wine.feature_names[i],'\\n')\n",
    "    for j in range(13):\n",
    "        print(np.max(wine.data[i][j]))"
   ]
  },
  {
   "cell_type": "markdown",
   "metadata": {},
   "source": [
    "## Visualization"
   ]
  },
  {
   "cell_type": "markdown",
   "metadata": {},
   "source": [
    "#### 對 `alcohol`, `malic_acid`, `ash` 三個 feature，各自繪製一 scatter 圖 - 20%\n",
    "* title 為其 feature 名字\n",
    "* X 軸為其 target，並需對應 class_0 - class_2\n",
    "* Y 軸為該 feature 在對應的 target 下的分佈\n",
    "* 點需依照 target 上色，三個 target 需顏色不同\n",
    "\n",
    "Hints:\n",
    "* [pyplot.title](https://matplotlib.org/3.1.1/api/_as_gen/matplotlib.pyplot.title.html)\n",
    "* [pyplot.scatter](https://matplotlib.org/3.1.1/api/_as_gen/matplotlib.pyplot.scatter.html)\n",
    "* [pyplot.xticks](https://matplotlib.org/3.1.1/api/_as_gen/matplotlib.pyplot.xticks.html)"
   ]
  },
  {
   "cell_type": "code",
   "execution_count": 72,
   "metadata": {},
   "outputs": [
    {
     "data": {
      "image/png": "[encoded data removed]",
      "text/plain": [
       "<Figure size 1440x720 with 1 Axes>"
      ]
     },
     "metadata": {
      "needs_background": "light"
     },
     "output_type": "display_data"
    },
    {
     "data": {
      "image/png": "[encoded data removed]",
      "text/plain": [
       "<Figure size 1440x720 with 1 Axes>"
      ]
     },
     "metadata": {
      "needs_background": "light"
     },
     "output_type": "display_data"
    },
    {
     "data": {
      "image/png": "[encoded data removed]",
      "text/plain": [
       "<Figure size 1440x720 with 1 Axes>"
      ]
     },
     "metadata": {
      "needs_background": "light"
     },
     "output_type": "display_data"
    }
   ],
   "source": [
    "for i in range(3):\n",
    "    plt.figure(figsize=(20, 10)) # 讓你的圖看起來大大的\n",
    "    plt.title(wine.feature_names[i], fontdict=None, loc='center', pad=None)\n",
    "    plt.xticks(np.arange(3), wine.target_names)\n",
    "    for j in range(178):\n",
    "        if(wine.target[j]==0):\n",
    "            cl='red'\n",
    "        elif(wine.target[j]==1):\n",
    "            cl='blue'\n",
    "        else:\n",
    "            cl='black'\n",
    "        plt.scatter(wine.target[j],np.split(wine.data.T,13,axis=0)[i][0][j],c=cl)\n",
    "    plt.show() # 畫圖囉"
   ]
  },
  {
   "cell_type": "markdown",
   "metadata": {},
   "source": [
    "#### 挑選兩個 feature 並繪製一張 scatter 圖 - 20%\n",
    "* 點須依照 target 上色，各 target 顏色不相同\n",
    "* X 及 Y 座標需以該 feature 命名"
   ]
  },
  {
   "cell_type": "code",
   "execution_count": 74,
   "metadata": {},
   "outputs": [
    {
     "data": {
      "image/png": "[encoded data removed]",
      "text/plain": [
       "<Figure size 1440x720 with 1 Axes>"
      ]
     },
     "metadata": {
      "needs_background": "light"
     },
     "output_type": "display_data"
    }
   ],
   "source": [
    "plt.figure(figsize=(20, 10)) # 讓你的圖看起來大大的\n",
    "plt.xlabel('alcohol') \n",
    "plt.ylabel('malic_acid') \n",
    "for i in range(178):\n",
    "    if(wine.target[i]==0):\n",
    "        plt.scatter(wine.data[i][0],wine.data[i][1],c='red') #s可以改變大小 plt.scatter(wine.data[x][6],wine.data[x][7],c='b',s=100)\n",
    "    elif(wine.target[i]==1):\n",
    "        plt.scatter(wine.data[i][0],wine.data[i][1],c='blue') #alpha可以改變透明度  plt.scatter(wine.data[x][6],wine.data[x][7],c='b',alpha=0.2)\n",
    "    else:\n",
    "        plt.scatter(wine.data[i][0],wine.data[i][1],c='black')\n",
    "plt.show()"
   ]
  },
  {
   "cell_type": "markdown",
   "metadata": {},
   "source": [
    "#### 簡述為什麼你認為應該要挑選此兩個 feature - 5%\n",
    "* 我想知道這兩個feature之間有沒有什麼關聯，藉此來實驗一下"
   ]
  },
  {
   "cell_type": "markdown",
   "metadata": {},
   "source": [
    "## 有沒有什麼想對助教說的話?"
   ]
  },
  {
   "cell_type": "markdown",
   "metadata": {},
   "source": [
    "機器學習好好玩 助教也是帥哥VT廚"
   ]
  },
  {
   "cell_type": "markdown",
   "metadata": {},
   "source": [
    "![](https://media1.tenor.com/images/7703624797e893bc2e7bed863275ed28/tenor.gif?itemid=17703887)"
   ]
  }
 ],
 "metadata": {
  "kernelspec": {
   "display_name": "Python 3",
   "language": "python",
   "name": "python3"
  },
  "language_info": {
   "codemirror_mode": {
    "name": "ipython",
    "version": 3
   },
   "file_extension": ".py",
   "mimetype": "text/x-python",
   "name": "python",
   "nbconvert_exporter": "python",
   "pygments_lexer": "ipython3",
   "version": "3.8.5"
  }
 },
 "nbformat": 4,
 "nbformat_minor": 4
}
